{
  "nbformat": 4,
  "nbformat_minor": 0,
  "metadata": {
    "colab": {
      "provenance": [],
      "authorship_tag": "ABX9TyMnYR516IzH6GflPdAuB/J3",
      "include_colab_link": true
    },
    "kernelspec": {
      "name": "python3",
      "display_name": "Python 3"
    },
    "language_info": {
      "name": "python"
    }
  },
  "cells": [
    {
      "cell_type": "markdown",
      "metadata": {
        "id": "view-in-github",
        "colab_type": "text"
      },
      "source": [
        "<a href=\"https://colab.research.google.com/github/alexandergribenchenko/Test_R5_DE/blob/main/Solucion.ipynb\" target=\"_parent\"><img src=\"https://colab.research.google.com/assets/colab-badge.svg\" alt=\"Open In Colab\"/></a>"
      ]
    },
    {
      "cell_type": "markdown",
      "source": [
        "# ¿Como crear una prueba de concepto de un Datawarehouse en el contexto del retail?\n",
        "**Data Enginner Challenge - Grupo R5  (Presentado por: Alexander Ortega, Julio 2023)**"
      ],
      "metadata": {
        "id": "Gy6kiQgzlksf"
      }
    },
    {
      "cell_type": "markdown",
      "source": [
        "Este notebook presenta la solución al reto propuesto por el Grupo R5 para optar al rol de Data Enginner. El reto consiste en la implementacion de un datawarehouse en el conxtexto de negocio de ventas en tiendas fisicas de retail.\n",
        "\n",
        "El notebook está compuesto de 3 secciones que dan respuesta a cada uno de los ítems descritos en la consigna compartida:\n",
        "\n",
        "- **Sección 01. Diseño del datawarehouse:** Se presenta el diagrama del DWH implementado y se justifican la metodología implementada para su desarrollo.\n",
        "- **Sección 02. Pipeline para la creación del Datawarehouse:** Se crea un pipeline que permite\n",
        "- **Sección 03. Respuesta a preguntas particulares de negocio:** A partir del DWH implementado se responden a 2 preguntas especificas de negocio."
      ],
      "metadata": {
        "id": "mVKslqk1mD3A"
      }
    },
    {
      "cell_type": "markdown",
      "source": [
        "# Sección 01. Diseño del Datawarehouse"
      ],
      "metadata": {
        "id": "dXeEsqk6h-IK"
      }
    },
    {
      "cell_type": "markdown",
      "source": [
        "## S.01. Requerimiento\n",
        "\n",
        "Diseñar un DWH con base en el dataset, se puede usar cualquier metodología.    \n",
        "- Entregable: Gráfico representando el diseño, explicación de por qué se eligió la metodología teniendo en cuenta la escalabilidad y facilidad de uso para usuarios finales."
      ],
      "metadata": {
        "id": "pjChv9VriZS3"
      }
    },
    {
      "cell_type": "markdown",
      "source": [
        "## S.01. Solución"
      ],
      "metadata": {
        "id": "uOcUzqwaiRF7"
      }
    },
    {
      "cell_type": "markdown",
      "source": [
        "### S.01.01. Gráfico con el diseño del Datawarehouse"
      ],
      "metadata": {
        "id": "S4G8wJ7Wj9hx"
      }
    },
    {
      "cell_type": "markdown",
      "source": [
        "![Texto alternativo](https://raw.githubusercontent.com/alexandergribenchenko/Test_R5_DE/main/images/DWH_R5_DE_Test.png)\n"
      ],
      "metadata": {
        "id": "U5LF5gG7j1e9"
      }
    },
    {
      "cell_type": "markdown",
      "source": [
        "### S.01.02. Justificación metodología"
      ],
      "metadata": {
        "id": "Blev-Aipk7m3"
      }
    },
    {
      "cell_type": "markdown",
      "source": [
        "El diseño del Datawarehouse se generó bajo la metodología conocida como enfoque estrella (star schema).\n",
        "\n",
        "En el enfoque estrella, se utiliza una tabla de hechos central que contiene las métricas o medidas clave que se desean analizar, como por ejemplo el total de venta de las órdenes. Esta tabla de hechos se conecta directamente con las tablas dimensionales a través de claves foráneas. Cada tabla dimensional representa una dimensión clave en el contexto de los datos, como el cliente, la tienda y la fecha.\n",
        "\n",
        "En relación a la escalabilidad y a la facilidad del uso para usuarios finales podemos destacar los siguientes aspectos:\n"
      ],
      "metadata": {
        "id": "GTQhFMD2sK7p"
      }
    },
    {
      "cell_type": "markdown",
      "source": [
        "#### **Escalabilidad**\n",
        "\n",
        "- **Agregación eficiente:** El enfoque estrella permite realizar agregaciones precalculadas y simplifica el cálculo de medidas en consultas analíticas. Esto mejora el rendimiento de las consultas y permite escalar el Data Warehouse para manejar grandes volúmenes de datos y consultas complejas de manera eficiente.\n",
        "- **Incorporación de nuevas dimensiones:** El diseño del enfoque estrella facilita la incorporación de nuevas dimensiones en el futuro sin afectar la estructura existente. Esto brinda flexibilidad y escalabilidad para adaptarse a los cambios en los requisitos de análisis y las necesidades empresariales a medida que evolucionan con el tiempo."
      ],
      "metadata": {
        "id": "z1y4DwBGsdhp"
      }
    },
    {
      "cell_type": "markdown",
      "source": [
        "#### **Facilidad de uso para usuarios finales**\n",
        "\n",
        "- **Modelado intuitivo:** El enfoque estrella utiliza una estructura simple y fácil de comprender, lo que facilita a los usuarios finales comprender la relación entre las dimensiones y las medidas. Esto permite a los usuarios explorar y analizar los datos de manera más intuitiva, sin requerir un conocimiento profundo del modelo subyacente.\n",
        "- **Consultas sencillas:** Las consultas en el enfoque estrella suelen ser más sencillas y directas, ya que se centran en las dimensiones clave y las medidas de interés. Los usuarios pueden formular consultas basadas en los atributos clave, como cliente, tienda o fecha, lo que facilita el análisis multidimensional y la obtención de información relevante rápidamente."
      ],
      "metadata": {
        "id": "QbfIu4b3s0or"
      }
    },
    {
      "cell_type": "markdown",
      "source": [
        "# Sección 02. Pipeline para la creación del Datawarehouse."
      ],
      "metadata": {
        "id": "5CHf-pP3kkO7"
      }
    },
    {
      "cell_type": "markdown",
      "source": [
        "## S.02. Requerimiento\n",
        "\n",
        "Crear un pipeline en Python que tome como input el dataset y que escriba el resultado en las tablas diseñadas en el punto 1. Se puede usar cualquier motor de base de datos.\n",
        "- Entregable: Código en Python del pipeline, se puede usar cualquier librería que considere necesaria."
      ],
      "metadata": {
        "id": "P7JyEziIwH94"
      }
    },
    {
      "cell_type": "markdown",
      "source": [
        "## S.02. Solución"
      ],
      "metadata": {
        "id": "PBwnlFRqwkA5"
      }
    },
    {
      "cell_type": "code",
      "source": [
        "import pandas as pd\n",
        "import sqlite3\n",
        "import os\n",
        "\n",
        "def create_database_structure(database_name):\n",
        "\n",
        "  conn = sqlite3.connect(database_name)\n",
        "  c = conn.cursor()\n",
        "\n",
        "  dict_query = {}\n",
        "\n",
        "  dict_query['query_DimBarrio'] = \"\"\"\n",
        "  CREATE TABLE IF NOT EXISTS \"DimBarrio\" (\n",
        "    \"id_barrio\" int,\n",
        "    \"nombre_barrio\" varchar,\n",
        "    PRIMARY KEY (\"id_barrio\")\n",
        "  )\n",
        "  \"\"\"\n",
        "\n",
        "  dict_query['query_DimTienda'] = \"\"\"\n",
        "  CREATE TABLE IF NOT EXISTS \"DimTienda\" (\n",
        "    \"id_tienda\" int,\n",
        "    \"tipo_tienda\" varchar,\n",
        "    \"latitud_tienda\" float,\n",
        "    \"longitud_tienda\" float,\n",
        "    \"id_barrio\" int,\n",
        "    PRIMARY KEY (\"id_tienda\"),\n",
        "    CONSTRAINT \"FK_DimTienda.id_barrio\"\n",
        "      FOREIGN KEY (\"id_barrio\")\n",
        "        REFERENCES \"DimBarrio\"(\"id_barrio\")\n",
        "  )\n",
        "  \"\"\"\n",
        "\n",
        "  dict_query['query_DimCliente'] = \"\"\"\n",
        "  CREATE TABLE IF NOT EXISTS \"DimCliente\" (\n",
        "    \"id_cliente\" int,\n",
        "    \"tipo_documento\" int,\n",
        "    PRIMARY KEY (\"id_cliente\")\n",
        "  )\n",
        "  \"\"\"\n",
        "\n",
        "  dict_query['query_DimFecha'] = \"\"\"\n",
        "  CREATE TABLE IF NOT EXISTS \"DimFecha\" (\n",
        "    \"fecha_compra\" datetime,\n",
        "    PRIMARY KEY (\"fecha_compra\")\n",
        "  )\n",
        "  \"\"\"\n",
        "\n",
        "  dict_query['query_FactOrden'] = \"\"\"\n",
        "  CREATE TABLE IF NOT EXISTS \"FactOrden\" (\n",
        "    \"id_orden\" int,\n",
        "    \"total_compra\" float,\n",
        "    \"fecha_compra\" datetime,\n",
        "    \"id_cliente\" int,\n",
        "    \"id_tienda\" int,\n",
        "    PRIMARY KEY (\"id_orden\"),\n",
        "    CONSTRAINT \"FK_FactOrden.fecha_compra\"\n",
        "      FOREIGN KEY (\"fecha_compra\")\n",
        "        REFERENCES \"DimFecha\"(\"fecha_compra\"),\n",
        "    CONSTRAINT \"FK_FactOrden.id_tienda\"\n",
        "      FOREIGN KEY (\"id_tienda\")\n",
        "        REFERENCES \"DimTienda\"(\"id_tienda\"),\n",
        "    CONSTRAINT \"FK_FactOrden.id_cliente\"\n",
        "      FOREIGN KEY (\"id_cliente\")\n",
        "        REFERENCES \"DimCliente\"(\"id_cliente\")\n",
        "  )\n",
        "  \"\"\"\n",
        "\n",
        "  for query in dict_query.keys():\n",
        "    c.execute(dict_query[query])\n",
        "\n",
        "  conn.commit()\n",
        "  conn.close()\n",
        "\n",
        "  return print('Creación de la base de datos finalizada con exito')\n",
        "\n",
        "def create_folder(folder_name):\n",
        "    if not os.path.exists(folder_name):\n",
        "        os.makedirs(folder_name)\n",
        "    return folder_name\n",
        "\n",
        "def create_csvs_fact_dim(path_input, path_output):\n",
        "\n",
        "  df = pd.read_csv(path_input, dtype=object)\n",
        "\n",
        "  df_DimCliente  =  df[['num_documento_cliente', 'tipo_documento_cliente']].drop_duplicates().\\\n",
        "                    sort_values(by='num_documento_cliente', ascending=True).\\\n",
        "                    rename(columns={'num_documento_cliente': 'id_cliente'}).\\\n",
        "                    reset_index(drop=True)\n",
        "\n",
        "\n",
        "\n",
        "  df_DimCliente.to_csv(f'{create_folder(path_output)}/DimCliente.csv', index=False)\n",
        "\n",
        "  return print('Archivos csv almacenados con exito')\n",
        "\n",
        "\n",
        "\n",
        "\n",
        "\n",
        "\n",
        "if __name__ == '__main__':\n",
        "\n",
        "  print('----------- PIPELINE -----------')\n",
        "  path_input = 'https://raw.githubusercontent.com/alexandergribenchenko/Test_R5_DE/main/data/dataset.csv'\n",
        "  path_output = './data'\n",
        "  database_name = 'retail_database.db'\n",
        "\n",
        "  print('--->>> Etapa 01. Creación de la base de datos')\n",
        "  create_database_structure(database_name)\n",
        "\n",
        "  print('--->>> Etapa 02. Obtencion de los csv para nutrir los facts y dimentions')\n",
        "  create_csvs_fact_dim(path_input, path_output)\n",
        "\n"
      ],
      "metadata": {
        "colab": {
          "base_uri": "https://localhost:8080/"
        },
        "id": "xFKQNO3AwFZh",
        "outputId": "807f7dad-5fdd-4555-dd77-b37f592de1e2"
      },
      "execution_count": 1,
      "outputs": [
        {
          "output_type": "stream",
          "name": "stdout",
          "text": [
            "----------- PIPELINE -----------\n",
            "--->>> Etapa 01. Creación de la base de datos\n",
            "Creación de la base de datos finalizada con exito\n",
            "--->>> Etapa 02. Obtencion de los csv para nutrir los facts y dimentions\n",
            "Archivos csv almacenados con exito\n"
          ]
        }
      ]
    },
    {
      "cell_type": "code",
      "source": [],
      "metadata": {
        "id": "pxPQYB9RwFXD"
      },
      "execution_count": 1,
      "outputs": []
    },
    {
      "cell_type": "code",
      "source": [
        "gatoperro"
      ],
      "metadata": {
        "colab": {
          "base_uri": "https://localhost:8080/",
          "height": 165
        },
        "id": "7OwlnjkDwFUg",
        "outputId": "4838024c-d462-413c-bda1-612d0458f01e"
      },
      "execution_count": 2,
      "outputs": [
        {
          "output_type": "error",
          "ename": "NameError",
          "evalue": "ignored",
          "traceback": [
            "\u001b[0;31m---------------------------------------------------------------------------\u001b[0m",
            "\u001b[0;31mNameError\u001b[0m                                 Traceback (most recent call last)",
            "\u001b[0;32m<ipython-input-2-9ff749e7984c>\u001b[0m in \u001b[0;36m<cell line: 1>\u001b[0;34m()\u001b[0m\n\u001b[0;32m----> 1\u001b[0;31m \u001b[0mgatoperro\u001b[0m\u001b[0;34m\u001b[0m\u001b[0;34m\u001b[0m\u001b[0m\n\u001b[0m",
            "\u001b[0;31mNameError\u001b[0m: name 'gatoperro' is not defined"
          ]
        }
      ]
    },
    {
      "cell_type": "code",
      "source": [],
      "metadata": {
        "id": "RZRdWmjsv5mp"
      },
      "execution_count": null,
      "outputs": []
    },
    {
      "cell_type": "code",
      "source": [],
      "metadata": {
        "id": "vWH1knp3v5XQ"
      },
      "execution_count": null,
      "outputs": []
    },
    {
      "cell_type": "code",
      "source": [],
      "metadata": {
        "id": "MWdhyYLCiQbB"
      },
      "execution_count": null,
      "outputs": []
    },
    {
      "cell_type": "code",
      "source": [],
      "metadata": {
        "id": "EtQoXHKciH3H"
      },
      "execution_count": null,
      "outputs": []
    },
    {
      "cell_type": "code",
      "source": [],
      "metadata": {
        "id": "hkYngPF_h9j0"
      },
      "execution_count": null,
      "outputs": []
    },
    {
      "cell_type": "code",
      "source": [
        "path_github = 'https://raw.githubusercontent.com/alexandergribenchenko/Test_R5_DE/main/data/dataset.csv'\n",
        "df = pd.read_csv(path_github, dtype=object)"
      ],
      "metadata": {
        "id": "cqV4XZzMiuet"
      },
      "execution_count": null,
      "outputs": []
    },
    {
      "cell_type": "code",
      "source": [],
      "metadata": {
        "id": "9WpY9e0Yiubd"
      },
      "execution_count": null,
      "outputs": []
    },
    {
      "cell_type": "code",
      "source": [],
      "metadata": {
        "id": "tJOrVj68iuYa"
      },
      "execution_count": null,
      "outputs": []
    },
    {
      "cell_type": "code",
      "source": [],
      "metadata": {
        "id": "f7mczfPQiuUQ"
      },
      "execution_count": null,
      "outputs": []
    },
    {
      "cell_type": "code",
      "source": [],
      "metadata": {
        "id": "UE9RKb6qiuRm"
      },
      "execution_count": null,
      "outputs": []
    },
    {
      "cell_type": "code",
      "source": [
        "path_github = 'https://raw.githubusercontent.com/alexandergribenchenko/Test_R5_DE/main/data/dataset.csv'"
      ],
      "metadata": {
        "id": "HGwewgEtVdq8"
      },
      "execution_count": null,
      "outputs": []
    },
    {
      "cell_type": "code",
      "source": [
        "df = pd.read_csv(path_github, dtype=object)\n",
        "df"
      ],
      "metadata": {
        "id": "R2RZ20g3deFt"
      },
      "execution_count": null,
      "outputs": []
    },
    {
      "cell_type": "code",
      "source": [
        "pd.read_sql_query(\"SELECT name FROM sqlite_master WHERE type='table'\", conn)"
      ],
      "metadata": {
        "id": "ZA_LjSBMgeUv"
      },
      "execution_count": null,
      "outputs": []
    },
    {
      "cell_type": "code",
      "source": [
        "df_DimCliente.to_sql('DimCliente', conn, if_exists='replace', index=False)"
      ],
      "metadata": {
        "id": "rXYHO1Adgprm"
      },
      "execution_count": null,
      "outputs": []
    },
    {
      "cell_type": "code",
      "source": [
        "pd.read_sql_query(\"\"\"\n",
        "SELECT *\n",
        "FROM DimCliente\n",
        "\"\"\", conn)"
      ],
      "metadata": {
        "id": "1kuT25hgg4zT"
      },
      "execution_count": null,
      "outputs": []
    },
    {
      "cell_type": "code",
      "source": [],
      "metadata": {
        "id": "w1qfjNArg4wz"
      },
      "execution_count": null,
      "outputs": []
    },
    {
      "cell_type": "code",
      "source": [
        "df_DimCliente  =  df[['num_documento_cliente', 'tipo_documento_cliente']].drop_duplicates().\\\n",
        "                  sort_values(by='num_documento_cliente', ascending=True).\\\n",
        "                  rename(columns={'num_documento_cliente': 'id_cliente'}).\\\n",
        "                  reset_index(drop=True)\n",
        "\n",
        "df_DimCliente"
      ],
      "metadata": {
        "id": "gOEFKy04fNqs"
      },
      "execution_count": null,
      "outputs": []
    },
    {
      "cell_type": "code",
      "source": [
        "df_dim_cliente =  df[['tipo_tienda']].drop_duplicates().\\\n",
        "                  sort_values(by='tipo_tienda', ascending=True).\\\n",
        "                  reset_index(drop=True)\n",
        "\n",
        "df_dim_cliente"
      ],
      "metadata": {
        "id": "48UhTOOTdeDS"
      },
      "execution_count": null,
      "outputs": []
    },
    {
      "cell_type": "code",
      "source": [],
      "metadata": {
        "id": "3G1r2_FddeA8"
      },
      "execution_count": null,
      "outputs": []
    },
    {
      "cell_type": "code",
      "source": [],
      "metadata": {
        "id": "72NnfI4Jdd-u"
      },
      "execution_count": null,
      "outputs": []
    },
    {
      "cell_type": "code",
      "source": [],
      "metadata": {
        "id": "8cASnPV9Vdoh"
      },
      "execution_count": null,
      "outputs": []
    },
    {
      "cell_type": "code",
      "source": [
        "# Save the headlines DataFrame to a CSV file\n",
        "data_path = './data'\n",
        "df.to_csv(f'{create_folder(data_path)}/sample_file.csv', index=False)"
      ],
      "metadata": {
        "id": "8E7_ufv7uhx4"
      },
      "execution_count": null,
      "outputs": []
    },
    {
      "cell_type": "code",
      "source": [
        "conn = sqlite3.connect('sample_database.db')"
      ],
      "metadata": {
        "id": "56icSaSQuhvn"
      },
      "execution_count": null,
      "outputs": []
    },
    {
      "cell_type": "code",
      "source": [
        "c = conn.cursor()"
      ],
      "metadata": {
        "id": "tM33OCfIuhrS"
      },
      "execution_count": null,
      "outputs": []
    },
    {
      "cell_type": "code",
      "source": [
        "dict_query = {}\n",
        "\n",
        "dict_query['query_DimBarrio'] = \"\"\"\n",
        "CREATE TABLE IF NOT EXISTS \"DimBarrio\" (\n",
        "  \"id_barrio\" int,\n",
        "  \"nombre_barrio\" varchar,\n",
        "  PRIMARY KEY (\"id_barrio\")\n",
        ")\n",
        "\"\"\"\n",
        "\n",
        "dict_query['query_DimTienda'] = \"\"\"\n",
        "CREATE TABLE IF NOT EXISTS \"DimTienda\" (\n",
        "  \"id_tienda\" int,\n",
        "  \"tipo_tienda\" varchar,\n",
        "  \"latitud_tienda\" float,\n",
        "  \"longitud_tienda\" float,\n",
        "  \"id_barrio\" int,\n",
        "  PRIMARY KEY (\"id_tienda\"),\n",
        "  CONSTRAINT \"FK_DimTienda.id_barrio\"\n",
        "    FOREIGN KEY (\"id_barrio\")\n",
        "      REFERENCES \"DimBarrio\"(\"id_barrio\")\n",
        ")\n",
        "\"\"\"\n",
        "\n",
        "dict_query['query_DimCliente'] = \"\"\"\n",
        "CREATE TABLE IF NOT EXISTS \"DimCliente\" (\n",
        "  \"id_cliente\" int,\n",
        "  \"tipo_documento\" int,\n",
        "  PRIMARY KEY (\"id_cliente\")\n",
        ")\n",
        "\"\"\"\n",
        "\n",
        "dict_query['query_DimFecha'] = \"\"\"\n",
        "CREATE TABLE IF NOT EXISTS \"DimFecha\" (\n",
        "  \"fecha_compra\" datetime,\n",
        "  PRIMARY KEY (\"fecha_compra\")\n",
        ")\n",
        "\"\"\"\n",
        "\n",
        "dict_query['query_FactOrden'] = \"\"\"\n",
        "CREATE TABLE IF NOT EXISTS \"FactOrden\" (\n",
        "  \"id_orden\" int,\n",
        "  \"total_compra\" float,\n",
        "  \"fecha_compra\" datetime,\n",
        "  \"id_cliente\" int,\n",
        "  \"id_tienda\" int,\n",
        "  PRIMARY KEY (\"id_orden\"),\n",
        "  CONSTRAINT \"FK_FactOrden.fecha_compra\"\n",
        "    FOREIGN KEY (\"fecha_compra\")\n",
        "      REFERENCES \"DimFecha\"(\"fecha_compra\"),\n",
        "  CONSTRAINT \"FK_FactOrden.id_tienda\"\n",
        "    FOREIGN KEY (\"id_tienda\")\n",
        "      REFERENCES \"DimTienda\"(\"id_tienda\"),\n",
        "  CONSTRAINT \"FK_FactOrden.id_cliente\"\n",
        "    FOREIGN KEY (\"id_cliente\")\n",
        "      REFERENCES \"DimCliente\"(\"id_cliente\")\n",
        ")\n",
        "\"\"\""
      ],
      "metadata": {
        "id": "j2OgFaSBWlqK"
      },
      "execution_count": null,
      "outputs": []
    },
    {
      "cell_type": "code",
      "source": [
        "for query in dict_query.keys():\n",
        "  c.execute(dict_query[query])"
      ],
      "metadata": {
        "id": "l3CP-qMwXves"
      },
      "execution_count": null,
      "outputs": []
    },
    {
      "cell_type": "code",
      "source": [],
      "metadata": {
        "id": "DjD_ZG2Wa0XG"
      },
      "execution_count": null,
      "outputs": []
    },
    {
      "cell_type": "code",
      "source": [
        "list(dict_query.keys())"
      ],
      "metadata": {
        "id": "JRHZU24UauFX"
      },
      "execution_count": null,
      "outputs": []
    },
    {
      "cell_type": "code",
      "source": [
        "pd.read_sql_query(\"SELECT name FROM sqlite_master WHERE type='table'\", conn)"
      ],
      "metadata": {
        "id": "aTJuc6cKV37c"
      },
      "execution_count": null,
      "outputs": []
    },
    {
      "cell_type": "code",
      "source": [],
      "metadata": {
        "id": "eF1tNg2Ogc1B"
      },
      "execution_count": null,
      "outputs": []
    },
    {
      "cell_type": "code",
      "source": [
        "pd.read_sql_query(\"SELECT * FROM FactOrden\", conn)"
      ],
      "metadata": {
        "id": "Nu-rd8O4asje"
      },
      "execution_count": null,
      "outputs": []
    },
    {
      "cell_type": "code",
      "source": [
        "df_"
      ],
      "metadata": {
        "id": "ZxV0njiudSUh"
      },
      "execution_count": null,
      "outputs": []
    },
    {
      "cell_type": "code",
      "source": [],
      "metadata": {
        "id": "6zYDJ0mydSLh"
      },
      "execution_count": null,
      "outputs": []
    },
    {
      "cell_type": "code",
      "source": [
        "df.to_sql('headlines', conn, if_exists='replace', index=False)"
      ],
      "metadata": {
        "id": "eL1zHbhiashZ"
      },
      "execution_count": null,
      "outputs": []
    },
    {
      "cell_type": "code",
      "source": [],
      "metadata": {
        "id": "jm69f24hasfW"
      },
      "execution_count": null,
      "outputs": []
    },
    {
      "cell_type": "code",
      "source": [],
      "metadata": {
        "id": "vbmcCqnyasdS"
      },
      "execution_count": null,
      "outputs": []
    },
    {
      "cell_type": "code",
      "source": [],
      "metadata": {
        "id": "8Oxs2o6casbK"
      },
      "execution_count": null,
      "outputs": []
    },
    {
      "cell_type": "code",
      "source": [],
      "metadata": {
        "id": "B5-Jr8q4asWw"
      },
      "execution_count": null,
      "outputs": []
    },
    {
      "cell_type": "code",
      "source": [],
      "metadata": {
        "id": "GZtXdxnfasUW"
      },
      "execution_count": null,
      "outputs": []
    },
    {
      "cell_type": "code",
      "source": [
        "headlines_df.to_sql('headlines', conn, if_exists='replace', index=False)"
      ],
      "metadata": {
        "id": "r21xXBLC2E_B"
      },
      "execution_count": null,
      "outputs": []
    },
    {
      "cell_type": "code",
      "source": [],
      "metadata": {
        "id": "Jw7DfduPyXKB"
      },
      "execution_count": null,
      "outputs": []
    },
    {
      "cell_type": "code",
      "source": [],
      "metadata": {
        "id": "yTFMUAXuyXHz"
      },
      "execution_count": null,
      "outputs": []
    },
    {
      "cell_type": "code",
      "source": [
        "conn.commit()"
      ],
      "metadata": {
        "id": "B-FYMMlmuhnl"
      },
      "execution_count": null,
      "outputs": []
    },
    {
      "cell_type": "code",
      "source": [
        "df.to_sql('headlines', conn, if_exists='replace', index=False)"
      ],
      "metadata": {
        "id": "kQIVDay4uhlZ"
      },
      "execution_count": null,
      "outputs": []
    },
    {
      "cell_type": "code",
      "source": [
        "conn.close()"
      ],
      "metadata": {
        "id": "0I4wJMmVuhjb"
      },
      "execution_count": null,
      "outputs": []
    },
    {
      "cell_type": "code",
      "source": [
        "conn = sqlite3.connect('sample_database.db')"
      ],
      "metadata": {
        "id": "6nyCPcijuhhE"
      },
      "execution_count": null,
      "outputs": []
    },
    {
      "cell_type": "code",
      "source": [
        "df_leido = pd.read_sql_query(\"SELECT * FROM FactOrden\", conn)\n",
        "df_leido.head()"
      ],
      "metadata": {
        "id": "bCL_bqi_yorL"
      },
      "execution_count": null,
      "outputs": []
    },
    {
      "cell_type": "code",
      "source": [],
      "metadata": {
        "id": "vHdSdWqmyoo_"
      },
      "execution_count": null,
      "outputs": []
    },
    {
      "cell_type": "code",
      "source": [],
      "metadata": {
        "id": "RiTnbHmWyom0"
      },
      "execution_count": null,
      "outputs": []
    },
    {
      "cell_type": "code",
      "source": [
        "df_leido = pd.read_sql_query(\"SELECT * FROM DimTienda\", conn)\n",
        "df_leido.head()"
      ],
      "metadata": {
        "id": "OvpmHQuGwzY7"
      },
      "execution_count": null,
      "outputs": []
    },
    {
      "cell_type": "code",
      "source": [],
      "metadata": {
        "id": "NsYWK3FCwzXA"
      },
      "execution_count": null,
      "outputs": []
    },
    {
      "cell_type": "code",
      "source": [
        "CREATE TABLE DimBarrio (\n",
        "  id_barrio int,\n",
        "  nombre_barrio varchar,\n",
        "  PRIMARY KEY (id_barrio)\n",
        ");\n",
        "\n",
        "CREATE TABLE DimTienda (\n",
        "  id_tienda int,\n",
        "  tipo_tienda varchar,\n",
        "  latitud_tienda float,\n",
        "  longitud_tienda float,\n",
        "  id_barrio int,\n",
        "  PRIMARY KEY (id_tienda),\n",
        "  CONSTRAINT FK_DimTienda.id_barrio\n",
        "    FOREIGN KEY (id_barrio)\n",
        "      REFERENCES DimBarrio(id_barrio)\n",
        ");\n",
        "\n",
        "CREATE TABLE DimCliente (\n",
        "  id_cliente int,\n",
        "  tipo_documento int,\n",
        "  PRIMARY KEY (id_cliente)\n",
        ");\n",
        "\n",
        "CREATE TABLE DimFecha (\n",
        "  fecha_compra datetime,\n",
        "  PRIMARY KEY (fecha_compra)\n",
        ");\n",
        "\n",
        "CREATE TABLE FactOrden (\n",
        "  id_orden int,\n",
        "  total_compra float,\n",
        "  fecha_compra datetime,\n",
        "  id_cliente int,\n",
        "  id_tienda int,\n",
        "  PRIMARY KEY (id_orden),\n",
        "  CONSTRAINT FK_FactOrden.fecha_compra\n",
        "    FOREIGN KEY (fecha_compra)\n",
        "      REFERENCES DimFecha(fecha_compra),\n",
        "  CONSTRAINT FK_FactOrden.id_tienda\n",
        "    FOREIGN KEY (id_tienda)\n",
        "      REFERENCES DimTienda(id_tienda),\n",
        "  CONSTRAINT FK_FactOrden.id_cliente\n",
        "    FOREIGN KEY (id_cliente)\n",
        "      REFERENCES DimCliente(id_cliente)\n",
        ");\n"
      ],
      "metadata": {
        "id": "SoJ5ajKFwzVI"
      },
      "execution_count": null,
      "outputs": []
    },
    {
      "cell_type": "code",
      "source": [],
      "metadata": {
        "id": "LSdnN-FqwzTW"
      },
      "execution_count": null,
      "outputs": []
    },
    {
      "cell_type": "code",
      "source": [],
      "metadata": {
        "id": "06lI_UuwwzRb"
      },
      "execution_count": null,
      "outputs": []
    },
    {
      "cell_type": "code",
      "source": [],
      "metadata": {
        "id": "-Wd7wiBXwzPW"
      },
      "execution_count": null,
      "outputs": []
    },
    {
      "cell_type": "code",
      "source": [],
      "metadata": {
        "id": "csjIFlUKwzM-"
      },
      "execution_count": null,
      "outputs": []
    },
    {
      "cell_type": "code",
      "source": [],
      "metadata": {
        "id": "TULuOBKKuhe8"
      },
      "execution_count": null,
      "outputs": []
    },
    {
      "cell_type": "code",
      "source": [
        "def create_folder(folder_name):\n",
        "    if not os.path.exists(folder_name):\n",
        "        os.makedirs(folder_name)\n",
        "    return folder_name"
      ],
      "metadata": {
        "id": "aaKGf7sjuhzy"
      },
      "execution_count": null,
      "outputs": []
    },
    {
      "cell_type": "code",
      "source": [
        "dict_input = { 'col_01': [1,2,3,4],\n",
        "               'col_02': ['gato','perro','gato','perro'],\n",
        "               'col_03': [1,5,6,7]\n",
        "             }\n",
        "\n",
        "df = pd.DataFrame.from_dict(dict_input)\n",
        "df"
      ],
      "metadata": {
        "id": "WFq1MfWHvL5y"
      },
      "execution_count": null,
      "outputs": []
    }
  ]
}